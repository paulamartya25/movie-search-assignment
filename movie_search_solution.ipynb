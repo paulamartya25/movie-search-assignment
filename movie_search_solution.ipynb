{
 "cells": [
  {
   "cell_type": "code",
   "execution_count": 4,
   "id": "edd0d346-6564-4017-a18b-27482293e48d",
   "metadata": {},
   "outputs": [
    {
     "name": "stdout",
     "output_type": "stream",
     "text": [
      "Libraries imported successfully.\n"
     ]
    }
   ],
   "source": [
    "# (a) Import necessary libraries\n",
    "import pandas as pd\n",
    "from sentence_transformers import SentenceTransformer\n",
    "from sklearn.metrics.pairwise import cosine_similarity\n",
    "import numpy as np\n",
    "\n",
    "print(\"Libraries imported successfully.\")\n"
   ]
  },
  {
   "cell_type": "code",
   "execution_count": 6,
   "id": "1bba0f87-d3b8-416d-ab97-19b4cc724a0a",
   "metadata": {},
   "outputs": [
    {
     "name": "stdout",
     "output_type": "stream",
     "text": [
      "Dataset loaded. Here are the first 5 rows:\n"
     ]
    },
    {
     "data": {
      "text/html": [
       "<div>\n",
       "<style scoped>\n",
       "    .dataframe tbody tr th:only-of-type {\n",
       "        vertical-align: middle;\n",
       "    }\n",
       "\n",
       "    .dataframe tbody tr th {\n",
       "        vertical-align: top;\n",
       "    }\n",
       "\n",
       "    .dataframe thead th {\n",
       "        text-align: right;\n",
       "    }\n",
       "</style>\n",
       "<table border=\"1\" class=\"dataframe\">\n",
       "  <thead>\n",
       "    <tr style=\"text-align: right;\">\n",
       "      <th></th>\n",
       "      <th>title</th>\n",
       "      <th>plot</th>\n",
       "    </tr>\n",
       "  </thead>\n",
       "  <tbody>\n",
       "    <tr>\n",
       "      <th>0</th>\n",
       "      <td>Spy Movie</td>\n",
       "      <td>A spy navigates intrigue in Paris to stop a te...</td>\n",
       "    </tr>\n",
       "    <tr>\n",
       "      <th>1</th>\n",
       "      <td>Romance in Paris</td>\n",
       "      <td>A couple falls in love in Paris under romantic...</td>\n",
       "    </tr>\n",
       "    <tr>\n",
       "      <th>2</th>\n",
       "      <td>Action Flick</td>\n",
       "      <td>A high-octane chase through New York with expl...</td>\n",
       "    </tr>\n",
       "  </tbody>\n",
       "</table>\n",
       "</div>"
      ],
      "text/plain": [
       "              title                                               plot\n",
       "0         Spy Movie  A spy navigates intrigue in Paris to stop a te...\n",
       "1  Romance in Paris  A couple falls in love in Paris under romantic...\n",
       "2      Action Flick  A high-octane chase through New York with expl..."
      ]
     },
     "metadata": {},
     "output_type": "display_data"
    }
   ],
   "source": [
    "# (b) Load the movies.csv dataset into a pandas DataFrame\n",
    "df = pd.read_csv('movies.csv')\n",
    "\n",
    "# Display the first 5 rows to confirm it loaded correctly\n",
    "print(\"Dataset loaded. Here are the first 5 rows:\")\n",
    "display(df.head())"
   ]
  },
  {
   "cell_type": "code",
   "execution_count": 8,
   "id": "425e7c36-513f-4f52-ac71-af958ce8bb06",
   "metadata": {},
   "outputs": [
    {
     "name": "stdout",
     "output_type": "stream",
     "text": [
      "Creating embeddings for all movie plots...\n"
     ]
    },
    {
     "name": "stderr",
     "output_type": "stream",
     "text": [
      "Batches: 100%|██████████████████████████████████████████████████████████████████████████████████████████████████| 1/1 [00:00<00:00, 11.49it/s]"
     ]
    },
    {
     "name": "stdout",
     "output_type": "stream",
     "text": [
      "Embeddings created successfully.\n"
     ]
    },
    {
     "name": "stderr",
     "output_type": "stream",
     "text": [
      "\n"
     ]
    }
   ],
   "source": [
    "# (c) Initialize the sentence transformer model 'all-MiniLM-L6-v2'\n",
    "model = SentenceTransformer('all-MiniLM-L6-v2')\n",
    "\n",
    "# Create embeddings for the movie plots. This may take a minute.\n",
    "print(\"Creating embeddings for all movie plots...\")\n",
    "plot_embeddings = model.encode(df['plot'].tolist(), show_progress_bar=True)\n",
    "\n",
    "print(\"Embeddings created successfully.\")"
   ]
  },
  {
   "cell_type": "code",
   "execution_count": 10,
   "id": "ceb60d09-68d7-4b34-a7e8-654086f8b709",
   "metadata": {},
   "outputs": [
    {
     "name": "stdout",
     "output_type": "stream",
     "text": [
      "search_movies function defined.\n"
     ]
    }
   ],
   "source": [
    "def search_movies(query, top_n=5):\n",
    "    \"\"\"\n",
    "    Searches for movies based on a query using semantic similarity.\n",
    "    Returns a DataFrame with the top 'top_n' movies.\n",
    "    \"\"\"\n",
    "    query_embedding = model.encode([query])\n",
    "    similarities = cosine_similarity(query_embedding, plot_embeddings)[0]\n",
    "    top_n_indices = np.argsort(similarities)[-top_n:][::-1]\n",
    "    results_df = df.iloc[top_n_indices].copy()\n",
    "    results_df['similarity_score'] = similarities[top_n_indices]\n",
    "    \n",
    "    return results_df\n",
    "\n",
    "print(\"search_movies function defined.\")"
   ]
  },
  {
   "cell_type": "code",
   "execution_count": 12,
   "id": "575c49fd-3dcd-496d-bd64-4af17d3b2623",
   "metadata": {},
   "outputs": [
    {
     "name": "stdout",
     "output_type": "stream",
     "text": [
      "Top 5 movie results for query: 'spy thriller in Paris'\n"
     ]
    },
    {
     "data": {
      "text/html": [
       "<div>\n",
       "<style scoped>\n",
       "    .dataframe tbody tr th:only-of-type {\n",
       "        vertical-align: middle;\n",
       "    }\n",
       "\n",
       "    .dataframe tbody tr th {\n",
       "        vertical-align: top;\n",
       "    }\n",
       "\n",
       "    .dataframe thead th {\n",
       "        text-align: right;\n",
       "    }\n",
       "</style>\n",
       "<table border=\"1\" class=\"dataframe\">\n",
       "  <thead>\n",
       "    <tr style=\"text-align: right;\">\n",
       "      <th></th>\n",
       "      <th>title</th>\n",
       "      <th>plot</th>\n",
       "      <th>similarity_score</th>\n",
       "    </tr>\n",
       "  </thead>\n",
       "  <tbody>\n",
       "    <tr>\n",
       "      <th>0</th>\n",
       "      <td>Spy Movie</td>\n",
       "      <td>A spy navigates intrigue in Paris to stop a te...</td>\n",
       "      <td>0.769684</td>\n",
       "    </tr>\n",
       "    <tr>\n",
       "      <th>1</th>\n",
       "      <td>Romance in Paris</td>\n",
       "      <td>A couple falls in love in Paris under romantic...</td>\n",
       "      <td>0.388030</td>\n",
       "    </tr>\n",
       "    <tr>\n",
       "      <th>2</th>\n",
       "      <td>Action Flick</td>\n",
       "      <td>A high-octane chase through New York with expl...</td>\n",
       "      <td>0.256777</td>\n",
       "    </tr>\n",
       "  </tbody>\n",
       "</table>\n",
       "</div>"
      ],
      "text/plain": [
       "              title                                               plot  \\\n",
       "0         Spy Movie  A spy navigates intrigue in Paris to stop a te...   \n",
       "1  Romance in Paris  A couple falls in love in Paris under romantic...   \n",
       "2      Action Flick  A high-octane chase through New York with expl...   \n",
       "\n",
       "   similarity_score  \n",
       "0          0.769684  \n",
       "1          0.388030  \n",
       "2          0.256777  "
      ]
     },
     "metadata": {},
     "output_type": "display_data"
    }
   ],
   "source": [
    "# (e) Test the function with the query 'spy thriller in Paris'\n",
    "test_query = 'spy thriller in Paris'\n",
    "\n",
    "# Call the search function to get the top 5 results.\n",
    "top_results = search_movies(test_query, top_n=5)\n",
    "\n",
    "# Display the results.\n",
    "print(f\"Top 5 movie results for query: '{test_query}'\")\n",
    "display(top_results[['title', 'plot', 'similarity_score']])"
   ]
  },
  {
   "cell_type": "code",
   "execution_count": null,
   "id": "dfe49a91-449a-454f-93fd-341a4d49c77f",
   "metadata": {},
   "outputs": [],
   "source": []
  }
 ],
 "metadata": {
  "kernelspec": {
   "display_name": "Python 3 (ipykernel)",
   "language": "python",
   "name": "python3"
  },
  "language_info": {
   "codemirror_mode": {
    "name": "ipython",
    "version": 3
   },
   "file_extension": ".py",
   "mimetype": "text/x-python",
   "name": "python",
   "nbconvert_exporter": "python",
   "pygments_lexer": "ipython3",
   "version": "3.13.5"
  }
 },
 "nbformat": 4,
 "nbformat_minor": 5
}
